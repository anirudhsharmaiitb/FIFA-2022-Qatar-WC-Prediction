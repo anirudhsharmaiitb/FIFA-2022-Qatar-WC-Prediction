{
  "cells": [
    {
      "cell_type": "markdown",
      "metadata": {
        "id": "0LCIq4fL3XJR"
      },
      "source": [
        "# **FIFA 2022 Qatar World Cup Prediction ⚽**\n",
        "\n",
        "I will predict the world cup winner before start of quarter finals i.e. who will win among the top 8 teams."
      ]
    },
    {
      "cell_type": "code",
      "execution_count": null,
      "metadata": {
        "colab": {
          "base_uri": "https://localhost:8080/"
        },
        "id": "dty0TKfVn4Wx",
        "outputId": "90e711a6-798d-45c3-8a01-b390020806f5"
      },
      "outputs": [
        {
          "name": "stdout",
          "output_type": "stream",
          "text": [
            "Drive already mounted at drive; to attempt to forcibly remount, call drive.mount(\"drive\", force_remount=True).\n"
          ]
        }
      ],
      "source": [
        "# Add the libraries\n",
        "import pandas as pd\n",
        "from bs4 import BeautifulSoup\n",
        "import requests\n",
        "import re\n",
        "import os\n",
        "from google.colab import drive\n",
        "drive.mount('drive')\n",
        "import numpy as np"
      ]
    },
    {
      "cell_type": "markdown",
      "metadata": {
        "id": "zjSpT2xA35U0"
      },
      "source": [
        "# **1. Data Collection 🌐**\n",
        "\n",
        "We will collect data from several sources - "
      ]
    },
    {
      "cell_type": "markdown",
      "metadata": {
        "id": "EhTGZLCO4IcK"
      },
      "source": [
        "## 1.1 FIFA 23 Game Website\n",
        "\n",
        "EA's FIFA 23 Game releases team and player stats which are updated basis the recent performance of teams and players. This can be a good source of data as this will be updated regularly and team/player stats are not expected to change much before end of world cup. Hence, this data should be able to predict recent matches with good accuracy.\n",
        "\n",
        "To collect this data we will use a webscraping library - BeautifulSoup."
      ]
    },
    {
      "cell_type": "markdown",
      "metadata": {
        "id": "11JaBfIn48xK"
      },
      "source": [
        "### 1.1.a Team Stats\n",
        "\n",
        "The website provides team stats like - overall, attack, midrange, defense."
      ]
    },
    {
      "cell_type": "code",
      "execution_count": null,
      "metadata": {
        "id": "Fp4rr1i05SF5"
      },
      "outputs": [],
      "source": [
        "country_page = requests.get(\"https://www.fifaratings.com/national-teams\")\n",
        "country_soup = BeautifulSoup(country_page.content, 'html.parser')\n",
        "\n",
        "country_list = []\n",
        "country_pagelink_list = []\n",
        "for i in range(len(country_soup.find_all(\"span\", class_=\"entry-font\"))):\n",
        "    text = country_soup.find_all(\"span\", class_=\"entry-font\")[i]\n",
        "    country_pagelink_list.append(str(text).split(\"a href=\\\"\")[1].split(\"\\\"\")[0])\n",
        "    country_list.append(str(text).split(\"title=\\\"\")[1].split(\" National\")[0])\n",
        "\n",
        "overall_list = []\n",
        "attack_list = []\n",
        "midrange_list = []\n",
        "defense_list = []\n",
        "\n",
        "soup_list = country_soup.find_all(\"span\", {\"class\": \"attribute-box\"})\n",
        "for i in range(len(country_soup.find_all(\"span\", class_=\"entry-font\"))):\n",
        "    overall_list.append(soup_list[i*4].get_text())\n",
        "    attack_list.append(soup_list[i * 4+1].get_text())\n",
        "    midrange_list.append(soup_list[i * 4+2].get_text())\n",
        "    defense_list.append(soup_list[i * 4+3].get_text())\n",
        "\n",
        "team_stats_csv = pd.DataFrame(zip(country_list, country_pagelink_list, overall_list, attack_list, midrange_list, defense_list), columns = [\"Country\", \"Link\", \"Overall\", \"Attack\", \"Midrange\", \"Defense\"])"
      ]
    },
    {
      "cell_type": "code",
      "execution_count": null,
      "metadata": {
        "colab": {
          "base_uri": "https://localhost:8080/"
        },
        "id": "BB2nhAIr5mRe",
        "outputId": "37b072b7-ca11-40e1-9098-55a7669b5750"
      },
      "outputs": [
        {
          "name": "stdout",
          "output_type": "stream",
          "text": [
            "     Country                                               Link Overall  \\\n",
            "0  Argentina  https://www.fifaratings.com/team/argentina-nat...      84   \n",
            "1  Australia  https://www.fifaratings.com/team/australia-nat...      72   \n",
            "2    Belgium  https://www.fifaratings.com/team/belgium-natio...      81   \n",
            "3     Brazil  https://www.fifaratings.com/team/brazil-nation...      84   \n",
            "4   Cameroon  https://www.fifaratings.com/team/cameroon-nati...      74   \n",
            "\n",
            "  Attack Midrange Defense  \n",
            "0     86       84      82  \n",
            "1     72       72      71  \n",
            "2     84       81      79  \n",
            "3     85       85      83  \n",
            "4     75       75      72  \n"
          ]
        }
      ],
      "source": [
        "print(team_stats_csv.head())"
      ]
    },
    {
      "cell_type": "markdown",
      "metadata": {
        "id": "xlX-E5c65-PK"
      },
      "source": [
        "### 1.1.b Player stats\n",
        "\n",
        "The website provides player stats like - overall, attack, skill, movement, power, mentality, defense, goalkeeping, player position etc. It also provides player's 'potential' which might be useful as well."
      ]
    },
    {
      "cell_type": "code",
      "execution_count": null,
      "metadata": {
        "id": "0espppuQ6Tfn"
      },
      "outputs": [],
      "source": [
        "player_country_list = []\n",
        "player_name_list = []\n",
        "player_pagelink_list = []\n",
        "player_overall_list = []\n",
        "player_potential_list = []\n",
        "player_attacking_list = []\n",
        "player_skill_list = []\n",
        "player_movement_list = []\n",
        "player_power_list = []\n",
        "player_mentality_list = []\n",
        "player_defending_list = []\n",
        "player_goalkeeping_list = []\n",
        "player_position_list = []\n",
        "i=-1\n",
        "k=-1\n",
        "for pagelink in country_pagelink_list:\n",
        "    k = k+1\n",
        "    page = requests.get(pagelink)\n",
        "    soup = BeautifulSoup(page.content, 'html.parser')\n",
        "    country = str(team_stats_csv[\"Country\"][k])\n",
        "    soup_list = soup.find_all(\"div\", class_=\"entries\")\n",
        "    potential_soup_list = soup.find_all(\"span\", {\"class\" : \"attribute-box\"})\n",
        "    for j in range(len(soup_list)):\n",
        "        i=i+1\n",
        "        text = soup_list[j]\n",
        "        player_pagelink_list.append(str(text).split(\"a href=\\\"\")[1].split(\"\\\"\")[0])\n",
        "        player_country_list.append(country)\n",
        "        player_name_list.append(str(text).split(\"title=\\\"\")[1].split(\"\\\"\")[0])\n",
        "        player_potential_list.append(potential_soup_list[3*j+1].get_text())\n",
        "        player_page = requests.get(str(player_pagelink_list[i]))\n",
        "        player_soup = BeautifulSoup(player_page.content, 'html.parser')\n",
        "        player_position_soup_list = player_soup.find_all(\"p\", class_=\"mb-0\")\n",
        "        player_position = [x.get_text() for x in player_position_soup_list if \"Best Position\" in x.get_text()][0].split(\"Best Position: \")[1]\n",
        "        player_position_list.append(player_position)\n",
        "        player_overall_list.append(player_soup.find_all(\"div\", class_=\"w-100 text-center mb-4\")[0].get_text().split(\"Overall\")[0])\n",
        "        player_attacking_list.append(player_soup.find_all(\"h5\", class_=\"card-title mb-0 ml-1\")[0].get_text().split(\" Attacking\")[0])\n",
        "        player_skill_list.append(\n",
        "            player_soup.find_all(\"h5\", class_=\"card-title mb-0 ml-1\")[1].get_text().split(\" Skill\")[0])\n",
        "        player_movement_list.append(\n",
        "            player_soup.find_all(\"h5\", class_=\"card-title mb-0 ml-1\")[2].get_text().split(\" Movement\")[0])\n",
        "        player_power_list.append(\n",
        "            player_soup.find_all(\"h5\", class_=\"card-title mb-0 ml-1\")[3].get_text().split(\" Power\")[0])\n",
        "        player_mentality_list.append(\n",
        "            player_soup.find_all(\"h5\", class_=\"card-title mb-0 ml-1\")[4].get_text().split(\" Mentality\")[0])\n",
        "        player_defending_list.append(\n",
        "            player_soup.find_all(\"h5\", class_=\"card-title mb-0 ml-1\")[5].get_text().split(\" Defending\")[0])\n",
        "        player_goalkeeping_list.append(\n",
        "            player_soup.find_all(\"h5\", class_=\"card-title mb-0 ml-1\")[6].get_text().split(\" Goalkeeping\")[0])\n",
        "\n",
        "    #print(country)\n",
        "\n",
        "player_stats_csv = pd.DataFrame(zip(player_country_list,player_name_list,player_pagelink_list, player_position_list, player_overall_list, player_potential_list, player_attacking_list, player_skill_list, player_movement_list, player_power_list, player_mentality_list, player_defending_list, player_goalkeeping_list),\n",
        "                                 columns=[\"Country\", \"Player\", \"Link\", \"Position\", \"Overall\", \"Potential\", \"Attacking\", \"Skill\", \"Movement\", \"Power\", \"Mentality\", \"Defending\", \"Goalkeeping\"])"
      ]
    },
    {
      "cell_type": "code",
      "execution_count": null,
      "metadata": {
        "colab": {
          "base_uri": "https://localhost:8080/"
        },
        "id": "ZhWPNf1fGU0H",
        "outputId": "deb2c44f-49a7-4dc2-d88b-5b44d990f6aa"
      },
      "outputs": [
        {
          "name": "stdout",
          "output_type": "stream",
          "text": [
            "     Country            Player                                          Link  \\\n",
            "0  Argentina      Lionel Messi      https://www.fifaratings.com/lionel-messi   \n",
            "1  Argentina  Lautaro Martínez  https://www.fifaratings.com/lautaro-martinez   \n",
            "2  Argentina      Paulo Dybala      https://www.fifaratings.com/paulo-dybala   \n",
            "3  Argentina      Marcos Acuña      https://www.fifaratings.com/marcos-acuna   \n",
            "4  Argentina    Ángel Di María    https://www.fifaratings.com/angel-di-maria   \n",
            "\n",
            "                            Position Overall Potential Attacking Skill  \\\n",
            "0  Center Attacking Midfielder (CAM)      91        91        85    93   \n",
            "1                       Striker (ST)      86        90        79    75   \n",
            "2  Center Attacking Midfielder (CAM)      86        86        79    88   \n",
            "3                     Left Back (LB)      85        85        73    83   \n",
            "4                    Right Wing (RW)      84        84        74    87   \n",
            "\n",
            "  Movement Power Mentality Defending Goalkeeping  \n",
            "0       88    77        74        26          11  \n",
            "1       86    82        77        43          10  \n",
            "2       83    75        70        37           5  \n",
            "3       82    79        82        83          12  \n",
            "4       81    74        74        49          10  \n"
          ]
        }
      ],
      "source": [
        "print(player_stats_csv.head())"
      ]
    },
    {
      "cell_type": "markdown",
      "metadata": {
        "id": "jvwtdPlO7OE-"
      },
      "source": [
        "## 1.2 ELO Ratings\n",
        "\n",
        "ELO Ratings are published which tells team's performance. These ratings are updated after each match and hence they should also reflect the current team performance."
      ]
    },
    {
      "cell_type": "code",
      "execution_count": null,
      "metadata": {
        "id": "5XHdxwo47cXN"
      },
      "outputs": [],
      "source": [
        "elo_page = requests.get(\"https://www.international-football.net/elo-ratings-table?year=2022&month=12&day=08\")\n",
        "elo_soup = BeautifulSoup(elo_page.content, 'html.parser')\n",
        "\n",
        "soup_list = elo_soup.find_all(\"tr\", class_=\"survol\")\n",
        "country_list = []\n",
        "rating_list = []\n",
        "i=0\n",
        "for soup in soup_list:\n",
        "    text = soup.get_text()\n",
        "    match = re.split(r\"(\\d+)\", text.split(\".\")[1])\n",
        "    #print(match)\n",
        "    country_list.append(match[0])\n",
        "    rating_list.append(match[1])\n",
        "    i=i+1\n",
        "    if i==70:\n",
        "        break\n",
        "\n",
        "#print(country_list)\n",
        "#print(rating_list)\n",
        "\n",
        "elo_ratings_csv = pd.DataFrame(zip(country_list, rating_list), columns=[\"Country\", \"ELO Rating\"])"
      ]
    },
    {
      "cell_type": "code",
      "execution_count": null,
      "metadata": {
        "colab": {
          "base_uri": "https://localhost:8080/"
        },
        "id": "qaYQMp0X9b1V",
        "outputId": "aa345498-c28d-421e-ce7e-dde25ef8e708"
      },
      "outputs": [
        {
          "name": "stdout",
          "output_type": "stream",
          "text": [
            "       Country ELO Rating\n",
            "0       Brazil       2150\n",
            "1    Argentina       2125\n",
            "2  Netherlands       2068\n",
            "3     Portugal       2042\n",
            "4       France       2018\n"
          ]
        }
      ],
      "source": [
        "print(elo_ratings_csv.head())"
      ]
    },
    {
      "cell_type": "markdown",
      "metadata": {
        "id": "akztX49z8I97"
      },
      "source": [
        "## 1.3 Match Data from Kaggle\n",
        "\n",
        "Kaggle has a dataset which lists all historical international football matches along with their winners and goals scored. The dataset also has the goal scorers and results of penalty knockouts which can be used to determine winner from tied matches."
      ]
    },
    {
      "cell_type": "code",
      "execution_count": null,
      "metadata": {
        "id": "t0vN-4cc-PXA"
      },
      "outputs": [],
      "source": [
        "#!pip install -q kaggle"
      ]
    },
    {
      "cell_type": "code",
      "execution_count": null,
      "metadata": {
        "id": "QUXWmB1g-R5H"
      },
      "outputs": [],
      "source": [
        "# adding the kaggle api and token file\n",
        "os.environ['KAGGLE_USERNAME'] = 'maverickcss'\n",
        "os.environ['KAGGLE_KEY'] = 'a76c90db25abc95a2b7b4cc0ed8c7ac6'"
      ]
    },
    {
      "cell_type": "code",
      "execution_count": null,
      "metadata": {
        "colab": {
          "base_uri": "https://localhost:8080/"
        },
        "id": "VvQoBCo_-06c",
        "outputId": "f6b6fe78-16cf-4947-d792-7464145b3cdb"
      },
      "outputs": [
        {
          "name": "stdout",
          "output_type": "stream",
          "text": [
            "Downloading international-football-results-from-1872-to-2017.zip to /content\n",
            "\r  0% 0.00/1.05M [00:00<?, ?B/s]\n",
            "\r100% 1.05M/1.05M [00:00<00:00, 117MB/s]\n"
          ]
        }
      ],
      "source": [
        "!kaggle datasets download -d martj42/international-football-results-from-1872-to-2017 --unzip"
      ]
    },
    {
      "cell_type": "code",
      "execution_count": null,
      "metadata": {
        "id": "94it5rldURpT"
      },
      "outputs": [],
      "source": [
        "goalscorers_csv = pd.read_csv('goalscorers.csv')\n",
        "matches_csv = pd.read_csv('results.csv')\n",
        "penalty_shootouts_csv = pd.read_csv('shootouts.csv')"
      ]
    },
    {
      "cell_type": "code",
      "execution_count": null,
      "metadata": {
        "colab": {
          "base_uri": "https://localhost:8080/"
        },
        "id": "JaCATFw0aOc_",
        "outputId": "af00bbc0-108f-40d2-f7c1-b8cee2ff449a"
      },
      "outputs": [
        {
          "name": "stdout",
          "output_type": "stream",
          "text": [
            "             date home_team    away_team  home_score  away_score  \\\n",
            "44340  2022-12-06  Portugal  Switzerland           6           1   \n",
            "44339  2022-12-06   Morocco        Spain           0           0   \n",
            "44338  2022-12-05    Brazil  South Korea           4           1   \n",
            "44337  2022-12-05     Japan      Croatia           1           1   \n",
            "44336  2022-12-04   England      Senegal           3           0   \n",
            "\n",
            "           tournament       city country  neutral  \n",
            "44340  FIFA World Cup     Lusail   Qatar     True  \n",
            "44339  FIFA World Cup  Al Rayyan   Qatar     True  \n",
            "44338  FIFA World Cup       Doha   Qatar     True  \n",
            "44337  FIFA World Cup  Al Wakrah   Qatar     True  \n",
            "44336  FIFA World Cup    Al Khor   Qatar     True  \n"
          ]
        }
      ],
      "source": [
        "print(matches_csv.sort_values(by=\"date\", ascending=False).head())"
      ]
    },
    {
      "cell_type": "code",
      "execution_count": null,
      "metadata": {
        "colab": {
          "base_uri": "https://localhost:8080/"
        },
        "id": "CAk2ddgAaUaq",
        "outputId": "df37c9d3-3a0b-40e0-e527-4b06e890d8a2"
      },
      "outputs": [
        {
          "name": "stdout",
          "output_type": "stream",
          "text": [
            "         date    home_team         away_team       winner\n",
            "0  1967-08-22        India            Taiwan       Taiwan\n",
            "1  1971-11-14  South Korea  Vietnam Republic  South Korea\n",
            "2  1972-05-07  South Korea              Iraq         Iraq\n",
            "3  1972-05-17     Thailand       South Korea  South Korea\n",
            "4  1972-05-19     Thailand          Cambodia     Thailand\n"
          ]
        }
      ],
      "source": [
        "print(penalty_shootouts_csv.head())"
      ]
    },
    {
      "cell_type": "code",
      "execution_count": null,
      "metadata": {
        "colab": {
          "base_uri": "https://localhost:8080/"
        },
        "id": "lcmFJHuoaaF9",
        "outputId": "750edfd0-f9f9-4cba-fb52-50d2dd223490"
      },
      "outputs": [
        {
          "name": "stdout",
          "output_type": "stream",
          "text": [
            "         date  home_team away_team       team            scorer  minute  \\\n",
            "0  1916-07-02      Chile   Uruguay    Uruguay   José Piendibene    44.0   \n",
            "1  1916-07-02      Chile   Uruguay    Uruguay  Isabelino Gradín    55.0   \n",
            "2  1916-07-02      Chile   Uruguay    Uruguay  Isabelino Gradín    70.0   \n",
            "3  1916-07-02      Chile   Uruguay    Uruguay   José Piendibene    75.0   \n",
            "4  1916-07-06  Argentina     Chile  Argentina     Alberto Ohaco     2.0   \n",
            "\n",
            "   own_goal  penalty  \n",
            "0     False    False  \n",
            "1     False    False  \n",
            "2     False    False  \n",
            "3     False    False  \n",
            "4     False    False  \n"
          ]
        }
      ],
      "source": [
        "print(goalscorers_csv.head())"
      ]
    },
    {
      "cell_type": "code",
      "execution_count": null,
      "metadata": {
        "id": "y_e5MGIMryd3"
      },
      "outputs": [],
      "source": [
        "# Saving all data as csv files and pushing to google drive\n",
        "\n",
        "team_stats_csv.to_csv('drive/My Drive/FIFA WC/team_stats.csv',mode='w')\n",
        "player_stats_csv.to_csv('drive/My Drive/FIFA WC/player_stats.csv',mode='w')\n",
        "elo_ratings_csv.to_csv('drive/My Drive/FIFA WC/elo_ratings.csv',mode='w')\n",
        "goalscorers_csv.to_csv('drive/My Drive/FIFA WC/goalscorers.csv',mode='w')\n",
        "matches_csv.to_csv('drive/My Drive/FIFA WC/matches.csv',mode='w')\n",
        "penalty_shootouts_csv.to_csv('drive/My Drive/FIFA WC/penalty_shootouts.csv',mode='w')"
      ]
    },
    {
      "cell_type": "markdown",
      "metadata": {
        "id": "yMh4JWcNvqpF"
      },
      "source": [
        "# **2. Data Transformation and Modelling ⚒**\n",
        "\n",
        "Now that we have collected our data we need to bring it in the usable form. We can have one dataframe for -\n",
        "\n",
        "\n",
        "*   All team realted stats/data\n",
        "*   All player related stats/data\n",
        "*   All historical matches with home and away separated\n",
        "\n",
        "\n"
      ]
    },
    {
      "cell_type": "code",
      "execution_count": null,
      "metadata": {
        "id": "Q6BklpBSt9Ut"
      },
      "outputs": [],
      "source": [
        "# We will start by reading from the saved csv files in google drive\n",
        "\n",
        "team_stats = pd.read_csv('drive/My Drive/FIFA WC/team_stats.csv', index_col=[0])\n",
        "player_stats = pd.read_csv('drive/My Drive/FIFA WC/player_stats.csv', index_col=[0])\n",
        "elo_ratings = pd.read_csv('drive/My Drive/FIFA WC/elo_ratings.csv', index_col=[0])\n",
        "goalscorers = pd.read_csv('drive/My Drive/FIFA WC/goalscorers.csv', index_col=[0])\n",
        "matches = pd.read_csv('drive/My Drive/FIFA WC/matches.csv', index_col=[0])\n",
        "penalty_shootouts = pd.read_csv('drive/My Drive/FIFA WC/penalty_shootouts.csv', index_col=[0])"
      ]
    },
    {
      "cell_type": "markdown",
      "metadata": {
        "id": "OYOTobq_WKaf"
      },
      "source": [
        "## 2.1 Data Cleaning and Filtering\n",
        "\n",
        "We need to make sure that all country names are spelled the same way throughout data. We will also filter out matches of relevant teams since 2018 and we will remove all players that are not playing currently."
      ]
    },
    {
      "cell_type": "code",
      "execution_count": null,
      "metadata": {
        "colab": {
          "base_uri": "https://localhost:8080/"
        },
        "id": "FFkKGGokWwdQ",
        "outputId": "8e6e10aa-0aa9-402e-f55e-a314789277fc"
      },
      "outputs": [
        {
          "name": "stdout",
          "output_type": "stream",
          "text": [
            "['Argentina' 'Australia' 'Belgium' 'Brazil' 'Cameroon' 'Canada'\n",
            " 'Costa Rica' 'Croatia' 'Denmark' 'Ecuador' 'England' 'France' 'Germany'\n",
            " 'Ghana' 'Iran' 'Japan' 'South Korea' 'Mexico' 'Morocco' 'Netherlands'\n",
            " 'Poland' 'Portugal' 'Qatar' 'Saudi Arabia' 'Senegal' 'Serbia' 'Spain'\n",
            " 'Switzerland' 'Tunisia' 'United States' 'Uruguay' 'Wales']\n"
          ]
        }
      ],
      "source": [
        "# changing Korea Republic to South Korea in the team and player stats\n",
        "team_stats['Country'].replace(['Korea Republic'],'South Korea', inplace=True)\n",
        "player_stats['Country'].replace(['Korea Republic'],'South Korea', inplace=True)\n",
        "print(team_stats['Country'].unique())"
      ]
    },
    {
      "cell_type": "code",
      "execution_count": null,
      "metadata": {
        "id": "b_WkU8lLXk0h"
      },
      "outputs": [],
      "source": [
        "# filtering matches of the world cup playing teams and dates after 2018\n",
        "matches = matches[pd.DatetimeIndex(matches['date']).year>=2018]\n",
        "matches = matches[matches['home_team'].isin(team_stats['Country'].unique())]\n",
        "matches = matches[matches['away_team'].isin(team_stats['Country'].unique())].reset_index(drop=True)\n",
        "matches = matches[['date', 'home_team', 'away_team', 'home_score', 'away_score', 'tournament']]\n",
        "\n",
        "penalty_shootouts = penalty_shootouts[pd.DatetimeIndex(penalty_shootouts['date']).year>=2014]\n",
        "penalty_shootouts = penalty_shootouts[penalty_shootouts['home_team'].isin(team_stats['Country'].unique())]\n",
        "penalty_shootouts = penalty_shootouts[penalty_shootouts['away_team'].isin(team_stats['Country'].unique())].reset_index(drop=True)\n",
        "\n",
        "goalscorers = goalscorers[pd.DatetimeIndex(goalscorers['date']).year>=2018]\n",
        "goalscorers = goalscorers[goalscorers['home_team'].isin(team_stats['Country'].unique())]\n",
        "goalscorers = goalscorers[goalscorers['away_team'].isin(team_stats['Country'].unique())].reset_index(drop=True)"
      ]
    },
    {
      "cell_type": "markdown",
      "metadata": {
        "id": "fIHVgJpKjCSa"
      },
      "source": [
        "## 2.2 Data Modelling\n",
        "\n",
        "We will create one dataframe that has all the team related data\n",
        "\n",
        "Also we will have a matches data with home and away separately"
      ]
    },
    {
      "cell_type": "code",
      "execution_count": null,
      "metadata": {
        "id": "gxKZoRGGjbbU"
      },
      "outputs": [],
      "source": [
        "team_data = pd.merge(team_stats, elo_ratings, left_on = 'Country', right_on='Country', how='inner').reset_index(drop=True)"
      ]
    },
    {
      "cell_type": "code",
      "execution_count": null,
      "metadata": {
        "id": "s_TFiGUrk61p"
      },
      "outputs": [],
      "source": [
        "matches2 = pd.DataFrame()\n",
        "matches2['date'] = matches['date']\n",
        "matches2['home_team'] = matches['away_team']\n",
        "matches2['away_team'] = matches['home_team']\n",
        "matches2['home_score'] = matches['away_score']\n",
        "matches2['away_score'] = matches['home_score']\n",
        "matches2['tournament'] = matches['tournament']\n",
        "\n",
        "matches = pd.concat([matches, matches2]).reset_index(drop=True)"
      ]
    },
    {
      "cell_type": "code",
      "execution_count": null,
      "metadata": {
        "id": "NDSUiD1njEwp"
      },
      "outputs": [],
      "source": [
        "matches = pd.merge(matches, team_data, left_on = 'home_team', right_on = 'Country', how='inner').reset_index(drop=True)\n",
        "matches.rename(columns = {'Overall':'home_overall','Attack':'home_attack','Midrange':'home_midrange','Defense':'home_defense','ELO Rating':'home_elo_rating'}, inplace=True)\n",
        "matches.drop(['Link'], axis=1, inplace=True)\n",
        "matches.drop(['Country'], axis=1, inplace=True)"
      ]
    },
    {
      "cell_type": "code",
      "execution_count": null,
      "metadata": {
        "id": "iFyUxNEPoN_7"
      },
      "outputs": [],
      "source": [
        "matches = pd.merge(matches, team_data, left_on='away_team', right_on='Country', how='inner').reset_index(drop=True)\n",
        "matches.rename(columns = {'Overall':'away_overall','Attack':'away_attack','Midrange':'away_midrange','Defense':'away_defense','ELO Rating':'away_elo_rating'}, inplace=True)\n",
        "matches.drop(['Link'], axis=1, inplace=True)\n",
        "matches.drop(['Country'], axis=1, inplace=True)"
      ]
    },
    {
      "cell_type": "code",
      "execution_count": null,
      "metadata": {
        "id": "WH8jbjd8pa7v"
      },
      "outputs": [],
      "source": [
        "matches['result'] = np.where(matches['home_score']>matches['away_score'],'W',np.where(matches['home_score']<matches['away_score'],'L','T'))\n",
        "matches = matches[['date', 'home_team', 'away_team', 'home_score', 'away_score', 'tournament', 'home_overall', 'home_attack', 'home_midrange', 'home_defense', 'home_elo_rating', 'away_overall', 'away_attack', 'away_midrange', 'away_defense', 'away_elo_rating', 'result']]"
      ]
    },
    {
      "cell_type": "code",
      "execution_count": null,
      "metadata": {
        "colab": {
          "base_uri": "https://localhost:8080/"
        },
        "id": "MAU2c-jcvRox",
        "outputId": "eb553b69-b382-4b47-8de4-6059dbaaa695"
      },
      "outputs": [
        {
          "name": "stdout",
          "output_type": "stream",
          "text": [
            "           date    home_team    away_team  home_score  away_score  \\\n",
            "26   2022-12-06      Morocco        Spain           0           0   \n",
            "300  2022-12-06  Switzerland     Portugal           1           6   \n",
            "225  2022-12-06     Portugal  Switzerland           6           1   \n",
            "622  2022-12-06        Spain      Morocco           0           0   \n",
            "681  2022-12-05        Japan      Croatia           1           1   \n",
            "\n",
            "         tournament  home_overall  home_attack  home_midrange  home_defense  \\\n",
            "26   FIFA World Cup            77           79             73            78   \n",
            "300  FIFA World Cup            78           77             78            78   \n",
            "225  FIFA World Cup            83           83             83            84   \n",
            "622  FIFA World Cup            84           83             85            83   \n",
            "681  FIFA World Cup            76           75             77            76   \n",
            "\n",
            "     home_elo_rating  away_overall  away_attack  away_midrange  away_defense  \\\n",
            "26              1882            84           83             85            83   \n",
            "300             1879            83           83             83            84   \n",
            "225             2042            78           77             78            78   \n",
            "622             1996            77           79             73            78   \n",
            "681             1850            80           80             83            78   \n",
            "\n",
            "     away_elo_rating result  \n",
            "26              1996      T  \n",
            "300             2042      L  \n",
            "225             1879      W  \n",
            "622             1882      T  \n",
            "681             1936      T  \n"
          ]
        }
      ],
      "source": [
        "print(matches.sort_values(by=\"date\", ascending=False).head())"
      ]
    },
    {
      "cell_type": "markdown",
      "metadata": {
        "id": "SZbcKAfwwBrf"
      },
      "source": [
        "# **3. Clustering Teams**\n",
        "\n",
        "We will cluster the teams into strong, average and weak so that it helps us in modelling\n",
        "\n",
        "\n"
      ]
    },
    {
      "cell_type": "code",
      "execution_count": null,
      "metadata": {
        "id": "gBpNjsr8wR_U"
      },
      "outputs": [],
      "source": [
        "import matplotlib.pyplot as plt\n",
        "import seaborn as sns\n",
        "%matplotlib inline\n",
        "import warnings\n",
        "warnings.filterwarnings('ignore')"
      ]
    },
    {
      "cell_type": "code",
      "execution_count": null,
      "metadata": {
        "id": "AunoHrvGxn1o"
      },
      "outputs": [],
      "source": [
        "from sklearn.cluster import KMeans\n",
        "cluster_data = team_data[['Attack','Midrange','Defense','Overall','ELO Rating']]\n",
        "cluster_data['Attack'] = cluster_data['Attack'].astype('float')\n",
        "cluster_data['Midrange'] = cluster_data['Midrange'].astype('float')\n",
        "cluster_data['Defense'] = cluster_data['Defense'].astype('float')\n",
        "cluster_data['Overall'] = cluster_data['Overall'].astype('float')\n",
        "cluster_data['ELO Rating'] = cluster_data['ELO Rating'].astype('float')\n",
        "#cluster_data.info()\n",
        "cluster_data = (cluster_data-cluster_data.min())/(cluster_data.max()-cluster_data.min())"
      ]
    },
    {
      "cell_type": "code",
      "execution_count": null,
      "metadata": {
        "colab": {
          "base_uri": "https://localhost:8080/",
          "height": 295
        },
        "id": "dMR0sEfJzakJ",
        "outputId": "d5372098-da6c-437f-9eb2-b7ee5c5edc57"
      },
      "outputs": [
        {
          "data": {
            "image/png": "[encoded data removed]",
            "text/plain": [
              "<Figure size 432x288 with 1 Axes>"
            ]
          },
          "metadata": {},
          "output_type": "display_data"
        }
      ],
      "source": [
        "inertias = []\n",
        "for i in range(1,11):\n",
        "  kmeans = KMeans(n_clusters=i)\n",
        "  kmeans.fit(cluster_data)\n",
        "  inertias.append(kmeans.inertia_)\n",
        "\n",
        "plt.plot(range(1,11), inertias, marker='o')\n",
        "plt.title('Elbow Method')\n",
        "plt.xlabel('Number of clusters')\n",
        "plt.ylabel('Inertia')\n",
        "plt.show()"
      ]
    },
    {
      "cell_type": "code",
      "execution_count": null,
      "metadata": {
        "colab": {
          "base_uri": "https://localhost:8080/"
        },
        "id": "MqLvXKDZ0LaB",
        "outputId": "fad226d1-db72-409e-f9e0-340aac837b3d"
      },
      "outputs": [
        {
          "name": "stdout",
          "output_type": "stream",
          "text": [
            "          Country  Overall  Attack  Midrange  Defense  ELO Rating  Cluster\n",
            "0       Argentina       84      86        84       82        2125   Strong\n",
            "1       Australia       72      72        72       71        1772     Weak\n",
            "2         Belgium       81      84        81       79        1948   Strong\n",
            "3          Brazil       84      85        85       83        2150   Strong\n",
            "4        Cameroon       74      75        75       72        1679     Weak\n",
            "5          Canada       75      75        78       72        1712     Weak\n",
            "6      Costa Rica       73      73        73       74        1737     Weak\n",
            "7         Croatia       80      80        83       78        1936   Strong\n",
            "8         Denmark       80      77        83       80        1883   Strong\n",
            "9         Ecuador       75      75        75       75        1842  Average\n",
            "10        England       84      86        83       83        1995   Strong\n",
            "11         France       83      86        82       82        2018   Strong\n",
            "12        Germany       84      84        85       82        1956   Strong\n",
            "13          Ghana       77      81        76       75        1596  Average\n",
            "14           Iran       75      81        73       72        1779  Average\n",
            "15          Japan       76      75        77       76        1850  Average\n",
            "16    South Korea       76      79        74       75        1788  Average\n",
            "17         Mexico       78      79        77       77        1813  Average\n",
            "18        Morocco       77      79        73       78        1882  Average\n",
            "19    Netherlands       82      82        82       83        2068   Strong\n",
            "20         Poland       77      81        75       75        1802  Average\n",
            "21       Portugal       83      83        83       84        2042   Strong\n",
            "22          Qatar       72      73        71       71        1578     Weak\n",
            "23   Saudi Arabia       71      71        72       71        1643     Weak\n",
            "24        Senegal       77      79        76       77        1747  Average\n",
            "25         Serbia       78      80        80       75        1835  Average\n",
            "26          Spain       84      83        85       83        1996   Strong\n",
            "27    Switzerland       78      77        78       78        1879  Average\n",
            "28        Tunisia       73      72        75       71        1747     Weak\n",
            "29  United States       77      77        78       76        1819  Average\n",
            "30        Uruguay       81      81        82       79        1905   Strong\n",
            "31          Wales       77      78        76       77        1717  Average\n"
          ]
        }
      ],
      "source": [
        "kmeans = KMeans(n_clusters=3)\n",
        "kmeans.fit(cluster_data)\n",
        "cluster_data['Cluster'] = kmeans.labels_\n",
        "cluster_numbers = cluster_data.groupby(['Cluster']).mean('ELO Rating').sort_values('ELO Rating')\n",
        "cluster_order = cluster_numbers.index.unique()\n",
        "\n",
        "team_data['Cluster']=cluster_data['Cluster'].astype('str')\n",
        "team_data['Cluster'].replace(str(cluster_order[0]),'Weak', inplace=True)\n",
        "team_data['Cluster'].replace(str(cluster_order[1]),'Average', inplace=True)\n",
        "team_data['Cluster'].replace(str(cluster_order[2]),'Strong', inplace=True)\n",
        "team_data.drop(['Link'],axis=1, inplace=True)\n",
        "print(team_data.to_string())"
      ]
    },
    {
      "cell_type": "code",
      "execution_count": null,
      "metadata": {
        "id": "xnJAQh8EPiH4"
      },
      "outputs": [],
      "source": [
        "matches['home_cluster'] = matches['home_team'].map(dict(team_data[['Country','Cluster']].to_records(index=False)))\n",
        "matches['away_cluster'] = matches['away_team'].map(dict(team_data[['Country','Cluster']].to_records(index=False)))"
      ]
    },
    {
      "cell_type": "code",
      "execution_count": null,
      "metadata": {
        "id": "UpNFp__H8xxK"
      },
      "outputs": [],
      "source": [
        "matches.sort_values('date', inplace=True)"
      ]
    },
    {
      "cell_type": "markdown",
      "metadata": {
        "id": "EBKjjbefmPKJ"
      },
      "source": [
        "# **4. Predicting match win/loss**\n",
        "\n",
        "We will use two ways to predict win/loss - \n",
        "\n",
        "\n",
        "* Use a classification model to predict win/loss\n",
        "* Use a regression model to predict home_team score and away_team score\n",
        "\n"
      ]
    },
    {
      "cell_type": "code",
      "execution_count": null,
      "metadata": {
        "id": "Car6ZEe-Fl2R"
      },
      "outputs": [],
      "source": [
        "# Preparing data for use in the model. Correcting data types and creating features.\n",
        "\n",
        "data = matches.dropna()\n",
        "#print(data.columns)"
      ]
    },
    {
      "cell_type": "code",
      "execution_count": null,
      "metadata": {
        "id": "wNgbsFYQF2Sm"
      },
      "outputs": [],
      "source": [
        "data['home_cluster'].replace('Strong',2,inplace=True)\n",
        "data['home_cluster'].replace('Average',1,inplace=True)\n",
        "data['home_cluster'].replace('Weak',0,inplace=True)\n",
        "data['away_cluster'].replace('Strong',2,inplace=True)\n",
        "data['away_cluster'].replace('Average',1,inplace=True)\n",
        "data['away_cluster'].replace('Weak',0,inplace=True)\n",
        "data['result'].replace('W',2,inplace=True)\n",
        "data['result'].replace('T',1,inplace=True)\n",
        "data['result'].replace('L',0,inplace=True)"
      ]
    },
    {
      "cell_type": "code",
      "execution_count": null,
      "metadata": {
        "colab": {
          "base_uri": "https://localhost:8080/"
        },
        "id": "qv7X51ARGAVa",
        "outputId": "787b2b5e-5911-4d79-cee0-e845b85efbc5"
      },
      "outputs": [
        {
          "name": "stdout",
          "output_type": "stream",
          "text": [
            "Index(['home_score', 'away_score', 'result', 'home_overall', 'home_attack',\n",
            "       'home_midrange', 'home_defense', 'home_elo_rating', 'home_cluster',\n",
            "       'away_overall', 'away_attack', 'away_midrange', 'away_defense',\n",
            "       'away_elo_rating', 'away_cluster', 'overall_diff', 'attack_effective',\n",
            "       'defense_effective', 'mid_effective', 'elo_rating_diff',\n",
            "       'team_strength_diff'],\n",
            "      dtype='object')\n"
          ]
        }
      ],
      "source": [
        "data = data[['home_score', 'away_score', 'result',\n",
        "             'home_overall', 'home_attack', 'home_midrange', 'home_defense', 'home_elo_rating', 'home_cluster',\n",
        "             'away_overall', 'away_attack', 'away_midrange', 'away_defense', 'away_elo_rating', 'away_cluster']]\n",
        "\n",
        "data = data.apply(pd.to_numeric)\n",
        "data['overall_diff'] = data['home_overall']-data['away_overall']\n",
        "data['attack_effective'] = data['home_attack']-data['away_defense']\n",
        "data['defense_effective'] = data['home_defense']-data['away_attack']\n",
        "data['mid_effective'] = data['home_midrange']-data['away_midrange']\n",
        "data['elo_rating_diff'] = data['home_elo_rating']-data['away_elo_rating']\n",
        "data['team_strength_diff'] = data['home_cluster']-data['away_cluster']\n",
        "\n",
        "print(data.columns)"
      ]
    },
    {
      "cell_type": "markdown",
      "metadata": {
        "id": "3IGLqDUUYpG_"
      },
      "source": [
        "We are splitting data in 10% as test set. This test set will contain the latest matches."
      ]
    },
    {
      "cell_type": "code",
      "execution_count": null,
      "metadata": {
        "id": "23BjgiAAJO1f"
      },
      "outputs": [],
      "source": [
        "from sklearn.model_selection import train_test_split\n",
        "X = data[['home_overall', 'home_attack',\n",
        "       'home_midrange', 'home_defense', 'home_elo_rating', 'home_cluster',\n",
        "       'away_overall', 'away_attack', 'away_midrange', 'away_defense',\n",
        "       'away_elo_rating', 'away_cluster', 'overall_diff', 'attack_effective',\n",
        "       'defense_effective', 'mid_effective', 'elo_rating_diff',\n",
        "       'team_strength_diff']]\n",
        "#X = (X-X.min())/(X.max()-X.min())\n",
        "y = data[['home_score', 'away_score', 'result']]\n",
        "\n",
        "X_train, X_test, y_train, y_test = train_test_split(X,y,test_size=0.1, shuffle=False)"
      ]
    },
    {
      "cell_type": "markdown",
      "metadata": {
        "id": "If9GglmfnnqU"
      },
      "source": [
        "## 4.1 Random Forest Classifier"
      ]
    },
    {
      "cell_type": "markdown",
      "metadata": {
        "id": "Qc-5DNUSYVaT"
      },
      "source": [
        "We will create our first model - Random Forest Classifier and then select the most important features"
      ]
    },
    {
      "cell_type": "code",
      "execution_count": null,
      "metadata": {
        "id": "Nl1gODLbtIkE"
      },
      "outputs": [],
      "source": [
        "from sklearn.ensemble import RandomForestClassifier\n",
        "\n",
        "clf = RandomForestClassifier(n_estimators=100, max_depth=5)\n",
        "clf.fit(X_train, y_train)\n",
        "\n",
        "y_pred = clf.predict(X_test)"
      ]
    },
    {
      "cell_type": "code",
      "execution_count": null,
      "metadata": {
        "colab": {
          "base_uri": "https://localhost:8080/"
        },
        "id": "BE-Zm7pytbTl",
        "outputId": "c8d57289-75c5-4c22-b88d-de1c8ac7421d"
      },
      "outputs": [
        {
          "name": "stdout",
          "output_type": "stream",
          "text": [
            "Accuracy:  0.6282051282051282\n"
          ]
        }
      ],
      "source": [
        "from sklearn import metrics\n",
        "accuracy = metrics.accuracy_score(y_test['result'], y_pred[:,2])\n",
        "print(\"Accuracy: \",accuracy)"
      ]
    },
    {
      "cell_type": "code",
      "execution_count": null,
      "metadata": {
        "colab": {
          "base_uri": "https://localhost:8080/"
        },
        "id": "qsh2ALaguFzs",
        "outputId": "5b30b75e-2eab-4419-b0e5-c7aea6deb59a"
      },
      "outputs": [
        {
          "name": "stdout",
          "output_type": "stream",
          "text": [
            "[[23  0 10]\n",
            " [ 5  3  5]\n",
            " [ 9  0 23]]\n"
          ]
        }
      ],
      "source": [
        "from sklearn.metrics import confusion_matrix\n",
        "print(confusion_matrix(y_test['result'], y_pred[:,2]))"
      ]
    },
    {
      "cell_type": "code",
      "execution_count": null,
      "metadata": {
        "colab": {
          "base_uri": "https://localhost:8080/"
        },
        "id": "EhxpBN-PxybH",
        "outputId": "01181030-50c3-44c6-d3ca-e6c0c8a5439e"
      },
      "outputs": [
        {
          "name": "stdout",
          "output_type": "stream",
          "text": [
            "elo_rating_diff       0.185996\n",
            "defense_effective     0.094097\n",
            "mid_effective         0.092374\n",
            "attack_effective      0.089441\n",
            "overall_diff          0.076005\n",
            "home_elo_rating       0.065407\n",
            "away_elo_rating       0.062325\n",
            "away_midrange         0.042882\n",
            "away_attack           0.038884\n",
            "home_attack           0.037532\n",
            "team_strength_diff    0.037019\n",
            "away_overall          0.036044\n",
            "home_overall          0.034604\n",
            "home_midrange         0.032666\n",
            "home_defense          0.031632\n",
            "away_defense          0.031112\n",
            "home_cluster          0.006912\n",
            "away_cluster          0.005068\n",
            "dtype: float64\n"
          ]
        }
      ],
      "source": [
        "feature_imp = pd.Series(clf.feature_importances_, index=X.columns).sort_values(ascending=False)\n",
        "print(feature_imp)"
      ]
    },
    {
      "cell_type": "markdown",
      "metadata": {
        "id": "wcSpPQypYfeS"
      },
      "source": [
        "It seems that difference metrics are useful so we will only keep them."
      ]
    },
    {
      "cell_type": "code",
      "execution_count": null,
      "metadata": {
        "colab": {
          "base_uri": "https://localhost:8080/"
        },
        "id": "lD96SvLNytKj",
        "outputId": "265cd1d4-7cab-4162-9022-595c951d4188"
      },
      "outputs": [
        {
          "name": "stdout",
          "output_type": "stream",
          "text": [
            "Accuracy:  0.6282051282051282\n",
            "[[24  1  8]\n",
            " [ 6  1  6]\n",
            " [ 7  1 24]]\n"
          ]
        }
      ],
      "source": [
        "# Keeping only the important features and then creating a model\n",
        "\n",
        "X_train = X_train[['overall_diff', 'attack_effective', 'defense_effective', 'mid_effective', 'elo_rating_diff']]\n",
        "X_test = X_test[['overall_diff', 'attack_effective', 'defense_effective', 'mid_effective', 'elo_rating_diff']]\n",
        "\n",
        "clf = RandomForestClassifier(n_estimators=100, max_depth=5)\n",
        "clf.fit(X_train, y_train)\n",
        "\n",
        "y_pred = clf.predict(X_test)\n",
        "\n",
        "accuracy = metrics.accuracy_score(y_test['result'], y_pred[:,2])\n",
        "print(\"Accuracy: \",accuracy)\n",
        "print(confusion_matrix(y_test['result'], y_pred[:,2]))"
      ]
    },
    {
      "cell_type": "markdown",
      "metadata": {
        "id": "PTBe4W0Bnt48"
      },
      "source": [
        "## 4.2 Decision Tree Regressor"
      ]
    },
    {
      "cell_type": "code",
      "execution_count": null,
      "metadata": {
        "colab": {
          "base_uri": "https://localhost:8080/"
        },
        "id": "HK4_WSBK2t-D",
        "outputId": "6e15c944-c68e-4885-cc50-a450f2bb402d"
      },
      "outputs": [
        {
          "name": "stdout",
          "output_type": "stream",
          "text": [
            "R squared:  0.26131419503650327\n"
          ]
        }
      ],
      "source": [
        "from sklearn.tree import DecisionTreeRegressor\n",
        "\n",
        "regr = DecisionTreeRegressor(max_depth=5)\n",
        "regr.fit(X_train, y_train)\n",
        "score = regr.score(X_train, y_train)\n",
        "print(\"R squared: \",score)"
      ]
    },
    {
      "cell_type": "code",
      "execution_count": null,
      "metadata": {
        "id": "W74MG-6q4yKe"
      },
      "outputs": [],
      "source": [
        "y_pred = regr.predict(X_test)\n",
        "score_diff = []\n",
        "for i in range(len(y_pred)):\n",
        "  score_diff.append(y_pred[i][0]-y_pred[i][1])\n",
        "\n",
        "win_pred = []\n",
        "for i in range(len(score_diff)):\n",
        "  if score_diff[i]>0.5:\n",
        "    win_pred.append(2)\n",
        "  elif score_diff[i]<-0.5:\n",
        "    win_pred.append(0)\n",
        "  else:\n",
        "    win_pred.append(1)"
      ]
    },
    {
      "cell_type": "code",
      "execution_count": null,
      "metadata": {
        "colab": {
          "base_uri": "https://localhost:8080/"
        },
        "id": "U1e3AwZ43KNP",
        "outputId": "11b48d4d-7e6c-4e40-da16-15e75a01bd21"
      },
      "outputs": [
        {
          "name": "stdout",
          "output_type": "stream",
          "text": [
            "Accuracy:  0.48717948717948717\n",
            "[[19 11  3]\n",
            " [ 5  7  1]\n",
            " [ 7 13 12]]\n"
          ]
        }
      ],
      "source": [
        "accuracy = metrics.accuracy_score(y_test['result'], win_pred)\n",
        "print(\"Accuracy: \",accuracy)\n",
        "print(confusion_matrix(y_test['result'], win_pred))\n",
        "#print(list(y_test['result']))\n",
        "#print(list(win_pred))"
      ]
    },
    {
      "cell_type": "markdown",
      "metadata": {
        "id": "KJQ7_uJ1Ys1_"
      },
      "source": [
        "It seems that the accuracy of Random Forest Classifier is better so we will go with that model."
      ]
    },
    {
      "cell_type": "markdown",
      "metadata": {
        "id": "5jUOgxYcLV1T"
      },
      "source": [
        "# **5. Predicting the final winner 🏆**\n",
        "\n",
        "This piece of code is used to predict the final worldcup winner basis the matches lined up. So we will write a function which is provided with team names and it will return to us the winner of the match.\n",
        "\n",
        "We will run this function for the upcoming matches and then see who the final winner of tournament is."
      ]
    },
    {
      "cell_type": "markdown",
      "metadata": {
        "id": "nS-ANyYLf-F3"
      },
      "source": [
        "## 5.1 Deterministic Approach"
      ]
    },
    {
      "cell_type": "code",
      "execution_count": null,
      "metadata": {
        "id": "CTsXYSLMgEMt"
      },
      "outputs": [],
      "source": [
        "def get_data(home_team, away_team):\n",
        "  home_overall = team_data[team_data['Country']==home_team]['Overall'].values[0]\n",
        "  home_attack = team_data[team_data['Country']==home_team]['Attack'].values[0]\n",
        "  home_midrange = team_data[team_data['Country']==home_team]['Midrange'].values[0]\n",
        "  home_defense = team_data[team_data['Country']==home_team]['Defense'].values[0]\n",
        "  home_elo_rating = team_data[team_data['Country']==home_team]['ELO Rating'].values[0]\n",
        "  home_cluster = team_data[team_data['Country']==home_team]['Cluster'].values[0]\n",
        "  away_overall = team_data[team_data['Country']==away_team]['Overall'].values[0]\n",
        "  away_attack = team_data[team_data['Country']==away_team]['Attack'].values[0]\n",
        "  away_midrange = team_data[team_data['Country']==away_team]['Midrange'].values[0]\n",
        "  away_defense = team_data[team_data['Country']==away_team]['Defense'].values[0]\n",
        "  away_elo_rating = team_data[team_data['Country']==away_team]['ELO Rating'].values[0]\n",
        "  away_cluster = team_data[team_data['Country']==away_team]['Cluster'].values[0]\n",
        "\n",
        "  overall_diff = home_overall-away_overall\n",
        "  attack_effective= home_attack-away_defense\n",
        "  defense_effective = home_defense-away_attack\n",
        "  mid_effective = home_midrange-away_midrange\n",
        "  elo_rating_diff = home_elo_rating-away_elo_rating\n",
        "  #team_strength_diff = home_cluster-away_cluster\n",
        "  data = pd.DataFrame([[overall_diff, attack_effective, defense_effective, mid_effective, elo_rating_diff]],\n",
        "                      columns=['overall_diff', 'attack_effective', 'defense_effective', 'mid_effective', 'elo_rating_diff'])\n",
        "  return data"
      ]
    },
    {
      "cell_type": "code",
      "execution_count": null,
      "metadata": {
        "id": "UMJEUESN4nW1"
      },
      "outputs": [],
      "source": [
        "X = data[['overall_diff', 'attack_effective', 'defense_effective', 'mid_effective', 'elo_rating_diff']]\n",
        "y = data[['home_score', 'away_score', 'result']]\n",
        "\n",
        "def get_clf_model_output(match_up):\n",
        "  y_pred = clf.predict(match_up)\n",
        "  return y_pred[:,2][0]"
      ]
    },
    {
      "cell_type": "markdown",
      "metadata": {
        "id": "I5leKn4wcpD5"
      },
      "source": [
        "As a tie match is not possible. If our model predicts a tie we will give equal probabilities to either of the team for winning the match. "
      ]
    },
    {
      "cell_type": "code",
      "execution_count": null,
      "metadata": {
        "id": "fmYQhtxi1_oE"
      },
      "outputs": [],
      "source": [
        "import random\n",
        "\n",
        "def predict_winner(home_team, away_team):\n",
        "  match_up = get_data(home_team, away_team)\n",
        "  reverse_match_up = get_data(away_team, home_team)\n",
        "  match_result_clf = get_clf_model_output(match_up)\n",
        "  reverse_match_result_clf = 2-get_clf_model_output(reverse_match_up)\n",
        "  score = match_result_clf + reverse_match_result_clf\n",
        "  winner = home_team\n",
        "  if score>2:\n",
        "    winner = home_team\n",
        "  elif score<2:\n",
        "    winner = away_team\n",
        "  else:\n",
        "    winner = random.choice([home_team, away_team])\n",
        "  return winner"
      ]
    },
    {
      "cell_type": "code",
      "execution_count": null,
      "metadata": {
        "colab": {
          "base_uri": "https://localhost:8080/"
        },
        "id": "1uUBp78PgXKo",
        "outputId": "b76cfd00-ffe5-4a5c-90ac-870f03f47ac0"
      },
      "outputs": [
        {
          "name": "stdout",
          "output_type": "stream",
          "text": [
            "QF1 winner:  Argentina\n",
            "QF2 winner:  Brazil\n",
            "QF3 winner:  England\n",
            "QF4 winner:  Portugal\n",
            "SF1 winner:  Brazil\n",
            "SF2 winner:  Portugal\n",
            "Third place:  Argentina\n",
            "WC winner:  Brazil\n"
          ]
        }
      ],
      "source": [
        "qf_1_winner = predict_winner('Netherlands', 'Argentina')\n",
        "print('QF1 winner: ', qf_1_winner)\n",
        "qf_2_winner = predict_winner('Croatia', 'Brazil')\n",
        "print('QF2 winner: ', qf_2_winner)\n",
        "qf_3_winner = predict_winner('England', 'France')\n",
        "print('QF3 winner: ', qf_3_winner)\n",
        "qf_4_winner = predict_winner('Morocco', 'Portugal')\n",
        "print('QF4 winner: ', qf_4_winner)\n",
        "sf_1_winner = predict_winner(qf_1_winner, qf_2_winner)\n",
        "print('SF1 winner: ', sf_1_winner)\n",
        "sf_2_winner = predict_winner(qf_3_winner, qf_4_winner)\n",
        "print('SF2 winner: ', sf_2_winner)\n",
        "third_place_teams = [x for x in [qf_1_winner, qf_2_winner, qf_3_winner, qf_4_winner] if x not in [sf_1_winner, sf_2_winner]]\n",
        "third_place = predict_winner(third_place_teams[0], third_place_teams[1])\n",
        "print('Third place: ', third_place)\n",
        "wc_winner = predict_winner(sf_1_winner, sf_2_winner)\n",
        "print('WC winner: ', wc_winner)"
      ]
    },
    {
      "cell_type": "markdown",
      "metadata": {
        "id": "6q2P76BJZzBp"
      },
      "source": [
        "It seems that Brazil would win!"
      ]
    },
    {
      "cell_type": "markdown",
      "metadata": {
        "id": "tg3nU4fig5wW"
      },
      "source": [
        "## 5.2 Simulation Approach"
      ]
    },
    {
      "cell_type": "markdown",
      "metadata": {
        "id": "DtEXni2bZyIX"
      },
      "source": [
        "Remember Morocco vs Spain?? Sports can have setbacks like that and it is difficult to predict such events. But, its a wise approach to predict the likelihood of any such event.\n",
        "\n",
        "And thus we will now try to simulate the world cup tournament by introducing uncertainty in the form of changing team stats from their mean stats."
      ]
    },
    {
      "cell_type": "code",
      "execution_count": null,
      "metadata": {
        "colab": {
          "base_uri": "https://localhost:8080/"
        },
        "id": "6HhjnxdGxwPe",
        "outputId": "5b34b8a7-5731-4f4b-b205-190297cf2ed2"
      },
      "outputs": [
        {
          "name": "stdout",
          "output_type": "stream",
          "text": [
            "             overall_vs_potential  Overall  deviation_amount\n",
            "Country                                                     \n",
            "Argentina                      60     2115          0.028369\n",
            "Brazil                         66     2163          0.030513\n",
            "Croatia                        68     2027          0.033547\n",
            "England                        63     2147          0.029343\n",
            "France                         87     2048          0.042480\n",
            "Morocco                        96     1936          0.049587\n",
            "Netherlands                    83     2078          0.039942\n",
            "Portugal                       84     2127          0.039492\n",
            "Spain                          99     2108          0.046964\n"
          ]
        }
      ],
      "source": [
        "player_stats2 = player_stats[player_stats['Country'].isin(['Netherlands', 'Argentina', 'Croatia', 'Brazil', 'England', 'France', 'Portugal', 'Morocco', 'Spain'])]\n",
        "player_stats2['overall_vs_potential'] = player_stats2['Potential'] - player_stats2['Overall']\n",
        "overall_vs_potential = player_stats2.groupby(['Country']).agg({'overall_vs_potential':\"sum\", 'Overall':'sum'})\n",
        "overall_vs_potential['deviation_amount'] = overall_vs_potential['overall_vs_potential']/overall_vs_potential['Overall']\n",
        "print(overall_vs_potential.to_string())"
      ]
    },
    {
      "cell_type": "markdown",
      "metadata": {
        "id": "MoctQ1yZaO-5"
      },
      "source": [
        "Based on FIFA ratings we see that some players have high potential, if those players play at their potential they can change the game. \n",
        "\n",
        "The above table tells how much % deviation can happen for each team if the team were to play upto their potential.\n",
        "\n",
        "To incorporate this we will add random normal deviations from team's base stats in proportion to the deviation available above."
      ]
    },
    {
      "cell_type": "code",
      "execution_count": null,
      "metadata": {
        "id": "LF9EsCtA4KY4"
      },
      "outputs": [],
      "source": [
        "def get_randomized_data(home_team, away_team, multiplier):\n",
        "  home_overall = team_data[team_data['Country']==home_team]['Overall'].values[0]\n",
        "  home_attack = team_data[team_data['Country']==home_team]['Attack'].values[0]\n",
        "  home_midrange = team_data[team_data['Country']==home_team]['Midrange'].values[0]\n",
        "  home_defense = team_data[team_data['Country']==home_team]['Defense'].values[0]\n",
        "  home_elo_rating = team_data[team_data['Country']==home_team]['ELO Rating'].values[0]\n",
        "  home_cluster = team_data[team_data['Country']==home_team]['Cluster'].values[0]\n",
        "  away_overall = team_data[team_data['Country']==away_team]['Overall'].values[0]\n",
        "  away_attack = team_data[team_data['Country']==away_team]['Attack'].values[0]\n",
        "  away_midrange = team_data[team_data['Country']==away_team]['Midrange'].values[0]\n",
        "  away_defense = team_data[team_data['Country']==away_team]['Defense'].values[0]\n",
        "  away_elo_rating = team_data[team_data['Country']==away_team]['ELO Rating'].values[0]\n",
        "  away_cluster = team_data[team_data['Country']==away_team]['Cluster'].values[0]\n",
        "\n",
        "  home_stdev = overall_vs_potential.loc[home_team]['deviation_amount']*multiplier\n",
        "  away_stdev = overall_vs_potential.loc[away_team]['deviation_amount']*multiplier\n",
        "\n",
        "  #adding randomness\n",
        "  home_overall_rand = np.random.normal(home_overall, home_overall*home_stdev, 1)[0]\n",
        "  home_overall = home_overall_rand if home_overall_rand>home_overall else home_overall\n",
        "  home_attack_rand = np.random.normal(home_attack, home_attack*home_stdev, 1)[0]\n",
        "  home_attack = home_attack_rand if home_attack_rand>home_attack else home_attack\n",
        "  home_midrange_rand = np.random.normal(home_midrange, home_midrange*home_stdev, 1)[0]\n",
        "  home_midrange = home_midrange_rand if home_midrange_rand>home_midrange else home_midrange\n",
        "  home_defense_rand = np.random.normal(home_defense, home_defense*home_stdev, 1)[0]\n",
        "  home_defense = home_defense_rand if home_defense_rand>home_defense else home_defense\n",
        "  home_elo_rating_rand = np.random.normal(home_elo_rating, home_elo_rating*home_stdev, 1)[0]\n",
        "  home_elo_rating = home_elo_rating_rand if home_elo_rating_rand>home_elo_rating else home_elo_rating\n",
        "\n",
        "  away_overall_rand = np.random.normal(away_overall, away_overall*home_stdev, 1)[0]\n",
        "  away_overall = away_overall_rand if away_overall_rand>away_overall else away_overall\n",
        "  away_attack_rand = np.random.normal(away_attack, away_attack*home_stdev, 1)[0]\n",
        "  away_attack = away_attack_rand if away_attack_rand>away_attack else away_attack\n",
        "  away_midrange_rand = np.random.normal(away_midrange, away_midrange*home_stdev, 1)[0]\n",
        "  away_midrange = away_midrange_rand if away_midrange_rand>away_midrange else away_midrange\n",
        "  away_defense_rand = np.random.normal(away_defense, away_defense*home_stdev, 1)[0]\n",
        "  away_defense = away_defense_rand if away_defense_rand>away_defense else away_defense\n",
        "  away_elo_rating_rand = np.random.normal(away_elo_rating, away_elo_rating*home_stdev, 1)[0]\n",
        "  away_elo_rating = away_elo_rating_rand if away_elo_rating_rand>away_elo_rating else away_elo_rating\n",
        "\n",
        "  overall_diff = home_overall-away_overall\n",
        "  attack_effective= home_attack-away_defense\n",
        "  defense_effective = home_defense-away_attack\n",
        "  mid_effective = home_midrange-away_midrange\n",
        "  elo_rating_diff = home_elo_rating-away_elo_rating\n",
        "  #team_strength_diff = home_cluster-away_cluster\n",
        "  data = pd.DataFrame([[overall_diff, attack_effective, defense_effective, mid_effective, elo_rating_diff]],\n",
        "                      columns=['overall_diff', 'attack_effective', 'defense_effective', 'mid_effective', 'elo_rating_diff'])\n",
        "  return data"
      ]
    },
    {
      "cell_type": "code",
      "execution_count": null,
      "metadata": {
        "id": "ZzE2sTWlh3vE"
      },
      "outputs": [],
      "source": [
        "def predict_winner_randomized(home_team, away_team, multiplier):\n",
        "  match_up = get_randomized_data(home_team, away_team, multiplier)\n",
        "  reverse_match_up = get_randomized_data(away_team, home_team, multiplier)\n",
        "  match_result_clf = get_clf_model_output(match_up)\n",
        "  reverse_match_result_clf = 2-get_clf_model_output(reverse_match_up)\n",
        "  score = match_result_clf + reverse_match_result_clf\n",
        "  winner = home_team\n",
        "  if score>2:\n",
        "    winner = home_team\n",
        "  elif score<2:\n",
        "    winner = away_team\n",
        "  else:\n",
        "    winner = random.choice([home_team, away_team])\n",
        "  return winner"
      ]
    },
    {
      "cell_type": "markdown",
      "metadata": {
        "id": "4YfIKO9abD8b"
      },
      "source": [
        "How much should be the multiplier? A value of 10 seems reasonable as it helps us align with the match win/loss probabilities available on betting sites."
      ]
    },
    {
      "cell_type": "code",
      "execution_count": null,
      "metadata": {
        "colab": {
          "base_uri": "https://localhost:8080/"
        },
        "id": "qD2wuU54hEGF",
        "outputId": "b2061e8e-9113-411b-ba4b-8be69651064f"
      },
      "outputs": [
        {
          "name": "stdout",
          "output_type": "stream",
          "text": [
            "dict_keys(['Brazil', 'Croatia'])\n",
            "dict_values([783, 217])\n",
            "dict_keys(['Spain', 'Morocco'])\n",
            "dict_values([743, 257])\n",
            "dict_keys(['Argentina', 'Netherlands'])\n",
            "dict_values([680, 320])\n"
          ]
        }
      ],
      "source": [
        "#finding the correct value of stdev\n",
        "# In Brazil Croatia match odds predict that Croatia wins with 20% probability\n",
        "# When Morocco beat Spain they had winning odds of 30%\n",
        "# In the coming Netherlands and Argentina match, Netherlands has 40% chances of winning\n",
        "from collections import Counter\n",
        "\n",
        "multiplier = 10\n",
        "winner = []\n",
        "for i in range(1000):\n",
        "  winner.append(predict_winner_randomized('Croatia', 'Brazil', multiplier))\n",
        "print(Counter(winner).keys())\n",
        "print(Counter(winner).values())\n",
        "winner = []\n",
        "for i in range(1000):\n",
        "  winner.append(predict_winner_randomized('Spain', 'Morocco', multiplier))\n",
        "print(Counter(winner).keys())\n",
        "print(Counter(winner).values())\n",
        "winner = []\n",
        "for i in range(1000):\n",
        "  winner.append(predict_winner_randomized('Netherlands', 'Argentina', multiplier))\n",
        "print(Counter(winner).keys())\n",
        "print(Counter(winner).values())"
      ]
    },
    {
      "cell_type": "code",
      "execution_count": null,
      "metadata": {
        "id": "ibfBBC-7OurT"
      },
      "outputs": [],
      "source": [
        "def run_wc_playout():\n",
        "  qf_1_winner = predict_winner_randomized('Netherlands', 'Argentina', multiplier)\n",
        "  #print('QF1 winner: ', qf_1_winner)\n",
        "  qf_2_winner = predict_winner_randomized('Croatia', 'Brazil', multiplier)\n",
        "  #print('QF2 winner: ', qf_2_winner)\n",
        "  qf_3_winner = predict_winner_randomized('England', 'France', multiplier)\n",
        "  #print('QF3 winner: ', qf_3_winner)\n",
        "  qf_4_winner = predict_winner_randomized('Morocco', 'Portugal', multiplier)\n",
        "  #print('QF4 winner: ', qf_4_winner)\n",
        "  sf_1_winner = predict_winner_randomized(qf_1_winner, qf_2_winner, multiplier)\n",
        "  #print('SF1 winner: ', sf_1_winner)\n",
        "  sf_2_winner = predict_winner_randomized(qf_3_winner, qf_4_winner, multiplier)\n",
        "  #print('SF2 winner: ', sf_2_winner)\n",
        "  wc_winner = predict_winner_randomized(sf_1_winner, sf_2_winner, multiplier)\n",
        "  #print('WC winner: ', wc_winner)\n",
        "  third_place_teams = [x for x in [qf_1_winner, qf_2_winner, qf_3_winner, qf_4_winner] if x not in [sf_1_winner, sf_2_winner]]\n",
        "  third_place = predict_winner_randomized(third_place_teams[0], third_place_teams[1], multiplier)\n",
        "  playout = [qf_1_winner, qf_2_winner, qf_3_winner, qf_4_winner, sf_1_winner, sf_2_winner, wc_winner, third_place]\n",
        "  return playout"
      ]
    },
    {
      "cell_type": "code",
      "execution_count": null,
      "metadata": {
        "id": "aaqPPME3AAOz"
      },
      "outputs": [],
      "source": [
        "def simulate_wc(n_simulations):\n",
        "  qf_1_winner = []\n",
        "  qf_2_winner = []\n",
        "  qf_3_winner = []\n",
        "  qf_4_winner = []\n",
        "  sf_1_winner = []\n",
        "  sf_2_winner = []\n",
        "  wc_winner = []\n",
        "  third_place = []\n",
        "  for i in range(n_simulations):\n",
        "    playout = run_wc_playout()\n",
        "    qf_1_winner.append(playout[0])\n",
        "    qf_2_winner.append(playout[1])\n",
        "    qf_3_winner.append(playout[2])\n",
        "    qf_4_winner.append(playout[3])\n",
        "    sf_1_winner.append(playout[4])\n",
        "    sf_2_winner.append(playout[5])\n",
        "    wc_winner.append(playout[6])\n",
        "    third_place.append(playout[7])\n",
        "  qf1_keys = list(Counter(qf_1_winner).keys())\n",
        "  qf1_values = list(Counter(qf_1_winner).values())\n",
        "  qf1_values[:] = [(x / n_simulations*100) for x in qf1_values]\n",
        "  qf2_keys = list(Counter(qf_2_winner).keys())\n",
        "  qf2_values = list(Counter(qf_2_winner).values())\n",
        "  qf2_values[:] = [(x / n_simulations*100) for x in qf2_values]\n",
        "  qf3_keys = list(Counter(qf_3_winner).keys())\n",
        "  qf3_values = list(Counter(qf_3_winner).values())\n",
        "  qf3_values[:] = [(x / n_simulations*100)  for x in qf3_values]\n",
        "  qf4_keys = list(Counter(qf_4_winner).keys())\n",
        "  qf4_values = list(Counter(qf_4_winner).values())\n",
        "  qf4_values[:] = [(x / n_simulations*100)  for x in qf4_values]\n",
        "  sf1_keys = list(Counter(sf_1_winner).keys())\n",
        "  sf1_values = list(Counter(sf_1_winner).values())\n",
        "  sf1_values[:] = [(x / n_simulations*100)  for x in sf1_values]\n",
        "  sf2_keys = list(Counter(sf_2_winner).keys())\n",
        "  sf2_values = list(Counter(sf_2_winner).values())\n",
        "  sf2_values[:] = [(x / n_simulations*100)  for x in sf2_values]\n",
        "  wcf_keys = list(Counter(wc_winner).keys())\n",
        "  wcf_values = list(Counter(wc_winner).values())\n",
        "  wcf_values[:] = [(x / n_simulations*100)  for x in wcf_values]\n",
        "  tpp_keys = list(Counter(third_place).keys())\n",
        "  tpp_values = list(Counter(third_place).values())\n",
        "  tpp_values[:] = [(x / n_simulations*100)  for x in tpp_values]\n",
        "  print(\"QF1: \",qf1_keys, \" \", qf1_values)\n",
        "  print(\"QF2: \",qf2_keys, \" \", qf2_values)\n",
        "  print(\"QF3: \",qf3_keys, \" \", qf3_values)\n",
        "  print(\"QF4: \",qf4_keys, \" \", qf4_values)\n",
        "  print(\"SF1: \",sf1_keys, \" \", sf1_values)\n",
        "  print(\"SF2: \",sf2_keys, \" \", sf2_values)\n",
        "  print(\"WCF: \",wcf_keys, \" \", wcf_values)\n",
        "  print(\"TPP: \",tpp_keys, \" \", tpp_values)\n",
        "  return [qf1_keys, qf1_values, qf2_keys, qf2_values, qf3_keys, qf3_values, qf4_keys, qf4_values, sf1_keys, sf1_values, sf2_keys, sf2_values, wcf_keys, wcf_values, tpp_keys, tpp_values]"
      ]
    },
    {
      "cell_type": "markdown",
      "metadata": {
        "id": "zpKfDUtYbViY"
      },
      "source": [
        "Finally we will simulate the worldcup 10,000 times and look at odds of each team getting the cup."
      ]
    },
    {
      "cell_type": "code",
      "execution_count": null,
      "metadata": {
        "colab": {
          "background_save": true
        },
        "id": "7s2Q9GTq8Hi1",
        "outputId": "aa954277-203b-4216-9620-a11940e2279e"
      },
      "outputs": [
        {
          "name": "stdout",
          "output_type": "stream",
          "text": [
            "QF1:  ['Netherlands', 'Argentina']   [35.97, 64.03]\n",
            "QF2:  ['Brazil', 'Croatia']   [80.04, 19.96]\n",
            "QF3:  ['England', 'France']   [48.46, 51.54]\n",
            "QF4:  ['Portugal', 'Morocco']   [77.63, 22.37]\n",
            "SF1:  ['Netherlands', 'Brazil', 'Argentina', 'Croatia']   [14.549999999999999, 48.02, 32.59, 4.84]\n",
            "SF2:  ['Portugal', 'England', 'France', 'Morocco']   [42.309999999999995, 25.95, 26.58, 5.16]\n",
            "WCF:  ['Portugal', 'Netherlands', 'Brazil', 'England', 'Argentina', 'France', 'Morocco', 'Croatia']   [17.83, 7.5, 30.72, 10.209999999999999, 20.68, 10.51, 1.04, 1.51]\n",
            "TPP:  ['Brazil', 'Netherlands', 'Morocco', 'Portugal', 'England', 'Argentina', 'France', 'Croatia']   [22.09, 12.26, 3.65, 15.709999999999999, 9.74, 20.44, 10.89, 5.220000000000001]\n"
          ]
        }
      ],
      "source": [
        "## 100 simulations take around 30 sec\n",
        "## 1000 simulations take around 5 min\n",
        "## 10000 simulations take around one hour\n",
        "results = simulate_wc(10000)"
      ]
    },
    {
      "cell_type": "code",
      "execution_count": null,
      "metadata": {
        "colab": {
          "background_save": true
        },
        "id": "8nhg7Kb3SlAM",
        "outputId": "6656a9bb-b2e4-428e-c0da-bd1f98fba618"
      },
      "outputs": [
        {
          "name": "stdout",
          "output_type": "stream",
          "text": [
            "Looking in indexes: https://pypi.org/simple, https://us-python.pkg.dev/colab-wheels/public/simple/\n",
            "Requirement already satisfied: squarify in /usr/local/lib/python3.8/dist-packages (0.4.3)\n"
          ]
        }
      ],
      "source": [
        "!pip install squarify\n",
        "import squarify"
      ]
    },
    {
      "cell_type": "code",
      "execution_count": null,
      "metadata": {
        "colab": {
          "background_save": true
        },
        "id": "860Jp3k5NFMp",
        "outputId": "819f8f32-fc14-4e3c-afad-4ac5e82755b5"
      },
      "outputs": [
        {
          "data": {
            "image/png": "[encoded data removed]",
            "text/plain": [
              "<Figure size 1296x864 with 21 Axes>"
            ]
          },
          "metadata": {},
          "output_type": "display_data"
        }
      ],
      "source": [
        "plt.rcParams[\"figure.figsize\"] = (18, 12)\n",
        "\n",
        "colors_dict = {\n",
        "    'Brazil': '#FFDC02',\n",
        "    'Netherlands': '#F36C21',\n",
        "    'Argentina': '#43A1D5',\n",
        "    'Croatia': '#FBEBD8',\n",
        "    'Morocco': '#E50011',\n",
        "    'Portugal': '#E42518',\n",
        "    'England': '#FFF7EF',\n",
        "    'France': '#21304D'\n",
        "}\n",
        "\n",
        "fig, axs = plt.subplots(7, 3)\n",
        "squarify.plot(sizes=results[1], label= [results[0][x] + \" \" + str(int(round(results[1][x]))) + \"%\" for x in range(len(results[0]))] , color = list(map(colors_dict.get, results[0])), alpha=0.6, ax=axs[0,0])\n",
        "squarify.plot(sizes=results[3], label= [results[2][x] + \" \" + str(int(round(results[3][x]))) + \"%\" for x in range(len(results[2]))], color = list(map(colors_dict.get, results[2])), alpha=0.6, ax=axs[2,0])\n",
        "squarify.plot(sizes=results[5], label= [results[4][x] + \" \" + str(int(round(results[5][x]))) + \"%\" for x in range(len(results[4]))], color = list(map(colors_dict.get, results[4])), alpha=0.6, ax=axs[4,0])\n",
        "squarify.plot(sizes=results[7], label= [results[6][x] + \" \" + str(int(round(results[7][x]))) + \"%\" for x in range(len(results[6]))], color = list(map(colors_dict.get, results[6])), alpha=0.6, ax=axs[6,0])\n",
        "squarify.plot(sizes=results[9], label= [results[8][x] + \" \" + str(int(round(results[9][x]))) + \"%\" for x in range(len(results[8]))], color = list(map(colors_dict.get, results[8])), alpha=0.6, ax=axs[1,1])\n",
        "squarify.plot(sizes=results[11], label= [results[10][x] + \" \" + str(int(round(results[11][x]))) + \"%\" for x in range(len(results[10]))], color = list(map(colors_dict.get, results[10])), alpha=0.6, ax=axs[5,1])\n",
        "squarify.plot(sizes=results[13], label= [results[12][x] + \" \" + str(int(round(results[13][x]))) + \"%\" for x in range(len(results[12]))], color = list(map(colors_dict.get, results[12])), alpha=0.6, ax=axs[3,2])\n",
        "squarify.plot(sizes=results[15], label= [results[14][x] + \" \" + str(int(round(results[15][x]))) + \"%\" for x in range(len(results[14]))], color = list(map(colors_dict.get, results[14])), alpha=0.6, ax=axs[6,2])\n",
        "\n",
        "axs[0,0].set_title('Quarter Final 1')\n",
        "axs[2,0].set_title('Quarter Final 2')\n",
        "axs[4,0].set_title('Quarter Final 3')\n",
        "axs[6,0].set_title('Quarter Final 4')\n",
        "axs[1,1].set_title('Semi Final 1')\n",
        "axs[5,1].set_title('Semi Final 2')\n",
        "axs[3,2].set_title('World Cup Final')\n",
        "axs[6,2].set_title('Third Place Playoffs')\n",
        "\n",
        "axs[0,0].axis('off')\n",
        "axs[1,0].axis('off')\n",
        "axs[2,0].axis('off')\n",
        "axs[3,0].axis('off')\n",
        "axs[4,0].axis('off')\n",
        "axs[5,0].axis('off')\n",
        "axs[6,0].axis('off')\n",
        "axs[0,1].axis('off')\n",
        "axs[1,1].axis('off')\n",
        "axs[2,1].axis('off')\n",
        "axs[3,1].axis('off')\n",
        "axs[4,1].axis('off')\n",
        "axs[5,1].axis('off')\n",
        "axs[6,1].axis('off')\n",
        "axs[0,2].axis('off')\n",
        "axs[1,2].axis('off')\n",
        "axs[2,2].axis('off')\n",
        "axs[3,2].axis('off')\n",
        "axs[4,2].axis('off')\n",
        "axs[5,2].axis('off')\n",
        "axs[6,2].axis('off')\n",
        "\n",
        "plt.show()"
      ]
    },
    {
      "cell_type": "markdown",
      "metadata": {
        "id": "kil7YvhqWOQ8"
      },
      "source": [
        "A close match to watch out for would be between England and France. But it seems Portugal will have decent chances to defeat either of these two that comes to semi-finals.\n",
        "\n",
        "Argentina should likely defeat Netherlands but they will face tough competition from Brazil in the semis. Whoever of the two advances to the finals will have a good chance against Portugal if they make it.\n",
        "\n",
        "As of now Brazil seems to be taking the cup home! 🏆"
      ]
    },
    {
      "cell_type": "markdown",
      "metadata": {
        "id": "7H9s2lRzb4oh"
      },
      "source": [
        "Now with this simulation we have a more nuanced prediction as to who will win the cup. Brazil still seems to be taking it home but we are more grounded in our support for Brazil! 😀"
      ]
    }
  ],
  "metadata": {
    "colab": {
      "provenance": []
    },
    "kernelspec": {
      "display_name": "Python 3",
      "name": "python3"
    },
    "language_info": {
      "name": "python"
    }
  },
  "nbformat": 4,
  "nbformat_minor": 0
}